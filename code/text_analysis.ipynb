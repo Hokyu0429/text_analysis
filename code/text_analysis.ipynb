{
 "cells": [
  {
   "cell_type": "code",
   "execution_count": 42,
   "metadata": {},
   "outputs": [],
   "source": [
    "import numpy as np\n",
    "import pandas as pd\n",
    "import sklearn.feature_extraction.text as fe\n",
    "import nltk"
   ]
  },
  {
   "cell_type": "code",
   "execution_count": 2,
   "metadata": {},
   "outputs": [],
   "source": [
    "import matplotlib.pyplot as plt\n",
    "import seaborn as sns\n",
    "%matplotlib inline"
   ]
  },
  {
   "cell_type": "code",
   "execution_count": 3,
   "metadata": {},
   "outputs": [],
   "source": [
    "import matplotlib as mpl\n",
    "mpl.rcParams['figure.figsize'] = [8.0, 6.0]"
   ]
  },
  {
   "cell_type": "markdown",
   "metadata": {},
   "source": [
    "### Get Data"
   ]
  },
  {
   "cell_type": "code",
   "execution_count": 4,
   "metadata": {},
   "outputs": [
    {
     "name": "stderr",
     "output_type": "stream",
     "text": [
      "[nltk_data] Downloading package gutenberg to\n",
      "[nltk_data]     /media/wintermute/data/nltk...\n",
      "[nltk_data]   Package gutenberg is already up-to-date!\n"
     ]
    },
    {
     "data": {
      "text/plain": [
       "True"
      ]
     },
     "execution_count": 4,
     "metadata": {},
     "output_type": "execute_result"
    }
   ],
   "source": [
    "# download gutenberg corpus\n",
    "nltk.download('gutenberg')"
   ]
  },
  {
   "cell_type": "code",
   "execution_count": 5,
   "metadata": {},
   "outputs": [
    {
     "data": {
      "text/plain": [
       "['austen-emma',\n",
       " 'austen-persuasion',\n",
       " 'austen-sense',\n",
       " 'bible-kjv',\n",
       " 'blake-poems',\n",
       " 'bryant-stories',\n",
       " 'burgess-busterbrown',\n",
       " 'carroll-alice',\n",
       " 'chesterton-ball',\n",
       " 'chesterton-brown',\n",
       " 'chesterton-thursday',\n",
       " 'edgeworth-parents',\n",
       " 'melville-moby_dick',\n",
       " 'milton-paradise',\n",
       " 'shakespeare-caesar',\n",
       " 'shakespeare-hamlet',\n",
       " 'shakespeare-macbeth',\n",
       " 'whitman-leaves']"
      ]
     },
     "execution_count": 5,
     "metadata": {},
     "output_type": "execute_result"
    }
   ],
   "source": [
    "# list available books\n",
    "books = nltk.corpus.gutenberg.fileids()\n",
    "names = [s.split('.')[0] for s in books]\n",
    "names"
   ]
  },
  {
   "cell_type": "code",
   "execution_count": 6,
   "metadata": {},
   "outputs": [
    {
     "name": "stdout",
     "output_type": "stream",
     "text": [
      "The pale Usher--threadbare in coat, heart, body, and brain; I see him\n",
      "now.  He was ever dusting his old lexicons and grammars, with a queer\n",
      "handkerchief, mockingly embellished with all the gay flags of all the\n",
      "known nations of the world.  He loved to dust his old grammars; it\n",
      "somehow mildly reminded him of his mortality.\n"
     ]
    }
   ],
   "source": [
    "# get text of all books (corpus)\n",
    "text = [nltk.corpus.gutenberg.open(f).read() for f in books]\n",
    "print(text[12][117:443])"
   ]
  },
  {
   "cell_type": "code",
   "execution_count": 7,
   "metadata": {},
   "outputs": [
    {
     "data": {
      "text/html": [
       "<div>\n",
       "<style scoped>\n",
       "    .dataframe tbody tr th:only-of-type {\n",
       "        vertical-align: middle;\n",
       "    }\n",
       "\n",
       "    .dataframe tbody tr th {\n",
       "        vertical-align: top;\n",
       "    }\n",
       "\n",
       "    .dataframe thead th {\n",
       "        text-align: right;\n",
       "    }\n",
       "</style>\n",
       "<table border=\"1\" class=\"dataframe\">\n",
       "  <thead>\n",
       "    <tr style=\"text-align: right;\">\n",
       "      <th></th>\n",
       "      <th>name</th>\n",
       "      <th>length</th>\n",
       "    </tr>\n",
       "  </thead>\n",
       "  <tbody>\n",
       "    <tr>\n",
       "      <td>0</td>\n",
       "      <td>austen-emma</td>\n",
       "      <td>887071</td>\n",
       "    </tr>\n",
       "    <tr>\n",
       "      <td>1</td>\n",
       "      <td>austen-persuasion</td>\n",
       "      <td>466292</td>\n",
       "    </tr>\n",
       "    <tr>\n",
       "      <td>2</td>\n",
       "      <td>austen-sense</td>\n",
       "      <td>673022</td>\n",
       "    </tr>\n",
       "    <tr>\n",
       "      <td>3</td>\n",
       "      <td>bible-kjv</td>\n",
       "      <td>4332554</td>\n",
       "    </tr>\n",
       "    <tr>\n",
       "      <td>4</td>\n",
       "      <td>blake-poems</td>\n",
       "      <td>38153</td>\n",
       "    </tr>\n",
       "    <tr>\n",
       "      <td>5</td>\n",
       "      <td>bryant-stories</td>\n",
       "      <td>249439</td>\n",
       "    </tr>\n",
       "    <tr>\n",
       "      <td>6</td>\n",
       "      <td>burgess-busterbrown</td>\n",
       "      <td>84663</td>\n",
       "    </tr>\n",
       "    <tr>\n",
       "      <td>7</td>\n",
       "      <td>carroll-alice</td>\n",
       "      <td>144395</td>\n",
       "    </tr>\n",
       "    <tr>\n",
       "      <td>8</td>\n",
       "      <td>chesterton-ball</td>\n",
       "      <td>457450</td>\n",
       "    </tr>\n",
       "    <tr>\n",
       "      <td>9</td>\n",
       "      <td>chesterton-brown</td>\n",
       "      <td>406629</td>\n",
       "    </tr>\n",
       "    <tr>\n",
       "      <td>10</td>\n",
       "      <td>chesterton-thursday</td>\n",
       "      <td>320525</td>\n",
       "    </tr>\n",
       "    <tr>\n",
       "      <td>11</td>\n",
       "      <td>edgeworth-parents</td>\n",
       "      <td>935158</td>\n",
       "    </tr>\n",
       "    <tr>\n",
       "      <td>12</td>\n",
       "      <td>melville-moby_dick</td>\n",
       "      <td>1242990</td>\n",
       "    </tr>\n",
       "    <tr>\n",
       "      <td>13</td>\n",
       "      <td>milton-paradise</td>\n",
       "      <td>468220</td>\n",
       "    </tr>\n",
       "    <tr>\n",
       "      <td>14</td>\n",
       "      <td>shakespeare-caesar</td>\n",
       "      <td>112310</td>\n",
       "    </tr>\n",
       "    <tr>\n",
       "      <td>15</td>\n",
       "      <td>shakespeare-hamlet</td>\n",
       "      <td>162881</td>\n",
       "    </tr>\n",
       "    <tr>\n",
       "      <td>16</td>\n",
       "      <td>shakespeare-macbeth</td>\n",
       "      <td>100351</td>\n",
       "    </tr>\n",
       "    <tr>\n",
       "      <td>17</td>\n",
       "      <td>whitman-leaves</td>\n",
       "      <td>711215</td>\n",
       "    </tr>\n",
       "  </tbody>\n",
       "</table>\n",
       "</div>"
      ],
      "text/plain": [
       "                   name   length\n",
       "0           austen-emma   887071\n",
       "1     austen-persuasion   466292\n",
       "2          austen-sense   673022\n",
       "3             bible-kjv  4332554\n",
       "4           blake-poems    38153\n",
       "5        bryant-stories   249439\n",
       "6   burgess-busterbrown    84663\n",
       "7         carroll-alice   144395\n",
       "8       chesterton-ball   457450\n",
       "9      chesterton-brown   406629\n",
       "10  chesterton-thursday   320525\n",
       "11    edgeworth-parents   935158\n",
       "12   melville-moby_dick  1242990\n",
       "13      milton-paradise   468220\n",
       "14   shakespeare-caesar   112310\n",
       "15   shakespeare-hamlet   162881\n",
       "16  shakespeare-macbeth   100351\n",
       "17       whitman-leaves   711215"
      ]
     },
     "execution_count": 7,
     "metadata": {},
     "output_type": "execute_result"
    }
   ],
   "source": [
    "# get basic info about each text\n",
    "length = np.array([len(x) for x in text])\n",
    "info = pd.DataFrame({'name': names, 'length': length})\n",
    "info"
   ]
  },
  {
   "cell_type": "markdown",
   "metadata": {},
   "source": [
    "### Vectorize Corpus"
   ]
  },
  {
   "cell_type": "code",
   "execution_count": 8,
   "metadata": {},
   "outputs": [
    {
     "name": "stdout",
     "output_type": "stream",
     "text": [
      "ndoc = 18\n",
      "ntok = 42063\n"
     ]
    }
   ],
   "source": [
    "vec_count = fe.CountVectorizer()\n",
    "count = vec_count.fit_transform(text)\n",
    "ndoc, ntok = count.shape\n",
    "print(f'ndoc = {ndoc}')\n",
    "print(f'ntok = {ntok}')"
   ]
  },
  {
   "cell_type": "code",
   "execution_count": 9,
   "metadata": {},
   "outputs": [],
   "source": [
    "vec_freq = fe.TfidfVectorizer(use_idf=False, norm='l1')\n",
    "freq = vec_freq.fit_transform(text)"
   ]
  },
  {
   "cell_type": "code",
   "execution_count": 10,
   "metadata": {},
   "outputs": [],
   "source": [
    "vec_tfidf = fe.TfidfVectorizer()\n",
    "tfidf = vec_tfidf.fit_transform(text)"
   ]
  },
  {
   "cell_type": "markdown",
   "metadata": {},
   "source": [
    "### Similarity Matrix"
   ]
  },
  {
   "cell_type": "code",
   "execution_count": 11,
   "metadata": {},
   "outputs": [
    {
     "data": {
      "image/png": "[encoded data removed]",
      "text/plain": [
       "<Figure size 432x432 with 2 Axes>"
      ]
     },
     "metadata": {
      "needs_background": "light"
     },
     "output_type": "display_data"
    }
   ],
   "source": [
    "simil = (tfidf*tfidf.T).toarray()\n",
    "plt.matshow(simil);\n",
    "plt.colorbar();"
   ]
  },
  {
   "cell_type": "code",
   "execution_count": 12,
   "metadata": {},
   "outputs": [
    {
     "data": {
      "text/html": [
       "<div>\n",
       "<style scoped>\n",
       "    .dataframe tbody tr th:only-of-type {\n",
       "        vertical-align: middle;\n",
       "    }\n",
       "\n",
       "    .dataframe tbody tr th {\n",
       "        vertical-align: top;\n",
       "    }\n",
       "\n",
       "    .dataframe thead th {\n",
       "        text-align: right;\n",
       "    }\n",
       "</style>\n",
       "<table border=\"1\" class=\"dataframe\">\n",
       "  <thead>\n",
       "    <tr style=\"text-align: right;\">\n",
       "      <th></th>\n",
       "      <th>name</th>\n",
       "      <th>id_close</th>\n",
       "      <th>sim_close</th>\n",
       "      <th>name_close</th>\n",
       "    </tr>\n",
       "  </thead>\n",
       "  <tbody>\n",
       "    <tr>\n",
       "      <td>0</td>\n",
       "      <td>austen-emma.txt</td>\n",
       "      <td>1</td>\n",
       "      <td>0.907119</td>\n",
       "      <td>austen-persuasion</td>\n",
       "    </tr>\n",
       "    <tr>\n",
       "      <td>1</td>\n",
       "      <td>austen-persuasion.txt</td>\n",
       "      <td>11</td>\n",
       "      <td>0.915382</td>\n",
       "      <td>edgeworth-parents</td>\n",
       "    </tr>\n",
       "    <tr>\n",
       "      <td>2</td>\n",
       "      <td>austen-sense.txt</td>\n",
       "      <td>1</td>\n",
       "      <td>0.908412</td>\n",
       "      <td>austen-persuasion</td>\n",
       "    </tr>\n",
       "    <tr>\n",
       "      <td>3</td>\n",
       "      <td>bible-kjv.txt</td>\n",
       "      <td>17</td>\n",
       "      <td>0.907778</td>\n",
       "      <td>whitman-leaves</td>\n",
       "    </tr>\n",
       "    <tr>\n",
       "      <td>4</td>\n",
       "      <td>blake-poems.txt</td>\n",
       "      <td>17</td>\n",
       "      <td>0.913517</td>\n",
       "      <td>whitman-leaves</td>\n",
       "    </tr>\n",
       "    <tr>\n",
       "      <td>5</td>\n",
       "      <td>bryant-stories.txt</td>\n",
       "      <td>9</td>\n",
       "      <td>0.943385</td>\n",
       "      <td>chesterton-brown</td>\n",
       "    </tr>\n",
       "    <tr>\n",
       "      <td>6</td>\n",
       "      <td>burgess-busterbrown.txt</td>\n",
       "      <td>5</td>\n",
       "      <td>0.764887</td>\n",
       "      <td>bryant-stories</td>\n",
       "    </tr>\n",
       "    <tr>\n",
       "      <td>7</td>\n",
       "      <td>carroll-alice.txt</td>\n",
       "      <td>5</td>\n",
       "      <td>0.857163</td>\n",
       "      <td>bryant-stories</td>\n",
       "    </tr>\n",
       "    <tr>\n",
       "      <td>8</td>\n",
       "      <td>chesterton-ball.txt</td>\n",
       "      <td>9</td>\n",
       "      <td>0.940164</td>\n",
       "      <td>chesterton-brown</td>\n",
       "    </tr>\n",
       "    <tr>\n",
       "      <td>9</td>\n",
       "      <td>chesterton-brown.txt</td>\n",
       "      <td>12</td>\n",
       "      <td>0.950602</td>\n",
       "      <td>melville-moby_dick</td>\n",
       "    </tr>\n",
       "    <tr>\n",
       "      <td>10</td>\n",
       "      <td>chesterton-thursday.txt</td>\n",
       "      <td>9</td>\n",
       "      <td>0.932657</td>\n",
       "      <td>chesterton-brown</td>\n",
       "    </tr>\n",
       "    <tr>\n",
       "      <td>11</td>\n",
       "      <td>edgeworth-parents.txt</td>\n",
       "      <td>9</td>\n",
       "      <td>0.923897</td>\n",
       "      <td>chesterton-brown</td>\n",
       "    </tr>\n",
       "    <tr>\n",
       "      <td>12</td>\n",
       "      <td>melville-moby_dick.txt</td>\n",
       "      <td>9</td>\n",
       "      <td>0.950602</td>\n",
       "      <td>chesterton-brown</td>\n",
       "    </tr>\n",
       "    <tr>\n",
       "      <td>13</td>\n",
       "      <td>milton-paradise.txt</td>\n",
       "      <td>4</td>\n",
       "      <td>0.873765</td>\n",
       "      <td>blake-poems</td>\n",
       "    </tr>\n",
       "    <tr>\n",
       "      <td>14</td>\n",
       "      <td>shakespeare-caesar.txt</td>\n",
       "      <td>15</td>\n",
       "      <td>0.757493</td>\n",
       "      <td>shakespeare-hamlet</td>\n",
       "    </tr>\n",
       "    <tr>\n",
       "      <td>15</td>\n",
       "      <td>shakespeare-hamlet.txt</td>\n",
       "      <td>16</td>\n",
       "      <td>0.817934</td>\n",
       "      <td>shakespeare-macbeth</td>\n",
       "    </tr>\n",
       "    <tr>\n",
       "      <td>16</td>\n",
       "      <td>shakespeare-macbeth.txt</td>\n",
       "      <td>15</td>\n",
       "      <td>0.817934</td>\n",
       "      <td>shakespeare-hamlet</td>\n",
       "    </tr>\n",
       "    <tr>\n",
       "      <td>17</td>\n",
       "      <td>whitman-leaves.txt</td>\n",
       "      <td>12</td>\n",
       "      <td>0.936301</td>\n",
       "      <td>melville-moby_dick</td>\n",
       "    </tr>\n",
       "  </tbody>\n",
       "</table>\n",
       "</div>"
      ],
      "text/plain": [
       "                       name  id_close  sim_close           name_close\n",
       "0           austen-emma.txt         1   0.907119    austen-persuasion\n",
       "1     austen-persuasion.txt        11   0.915382    edgeworth-parents\n",
       "2          austen-sense.txt         1   0.908412    austen-persuasion\n",
       "3             bible-kjv.txt        17   0.907778       whitman-leaves\n",
       "4           blake-poems.txt        17   0.913517       whitman-leaves\n",
       "5        bryant-stories.txt         9   0.943385     chesterton-brown\n",
       "6   burgess-busterbrown.txt         5   0.764887       bryant-stories\n",
       "7         carroll-alice.txt         5   0.857163       bryant-stories\n",
       "8       chesterton-ball.txt         9   0.940164     chesterton-brown\n",
       "9      chesterton-brown.txt        12   0.950602   melville-moby_dick\n",
       "10  chesterton-thursday.txt         9   0.932657     chesterton-brown\n",
       "11    edgeworth-parents.txt         9   0.923897     chesterton-brown\n",
       "12   melville-moby_dick.txt         9   0.950602     chesterton-brown\n",
       "13      milton-paradise.txt         4   0.873765          blake-poems\n",
       "14   shakespeare-caesar.txt        15   0.757493   shakespeare-hamlet\n",
       "15   shakespeare-hamlet.txt        16   0.817934  shakespeare-macbeth\n",
       "16  shakespeare-macbeth.txt        15   0.817934   shakespeare-hamlet\n",
       "17       whitman-leaves.txt        12   0.936301   melville-moby_dick"
      ]
     },
     "execution_count": 12,
     "metadata": {},
     "output_type": "execute_result"
    }
   ],
   "source": [
    "sim_sort = simil.argsort() # sort the similarity matrix horizontally\n",
    "close = sim_sort[:, -2] # closest other than the book itself\n",
    "sim_close = simil[range(len(books)), close] # get actual similarity value\n",
    "df_close = pd.DataFrame({'name': books, 'id_close': close, 'sim_close': sim_close})\n",
    "df_close = df_close.join(info['name'], on='id_close', rsuffix='_close') # get name of closest\n",
    "df_close"
   ]
  },
  {
   "cell_type": "markdown",
   "metadata": {},
   "source": [
    "### Word Usage"
   ]
  },
  {
   "cell_type": "code",
   "execution_count": 13,
   "metadata": {},
   "outputs": [
    {
     "data": {
      "text/html": [
       "<div>\n",
       "<style scoped>\n",
       "    .dataframe tbody tr th:only-of-type {\n",
       "        vertical-align: middle;\n",
       "    }\n",
       "\n",
       "    .dataframe tbody tr th {\n",
       "        vertical-align: top;\n",
       "    }\n",
       "\n",
       "    .dataframe thead th {\n",
       "        text-align: right;\n",
       "    }\n",
       "</style>\n",
       "<table border=\"1\" class=\"dataframe\">\n",
       "  <thead>\n",
       "    <tr style=\"text-align: right;\">\n",
       "      <th></th>\n",
       "      <th>name</th>\n",
       "      <th>vocab</th>\n",
       "      <th>complex</th>\n",
       "      <th>diversity</th>\n",
       "    </tr>\n",
       "  </thead>\n",
       "  <tbody>\n",
       "    <tr>\n",
       "      <td>0</td>\n",
       "      <td>austen-emma.txt</td>\n",
       "      <td>7239</td>\n",
       "      <td>7.685982</td>\n",
       "      <td>0.007758</td>\n",
       "    </tr>\n",
       "    <tr>\n",
       "      <td>1</td>\n",
       "      <td>austen-persuasion.txt</td>\n",
       "      <td>5755</td>\n",
       "      <td>8.427841</td>\n",
       "      <td>0.008517</td>\n",
       "    </tr>\n",
       "    <tr>\n",
       "      <td>2</td>\n",
       "      <td>austen-sense.txt</td>\n",
       "      <td>6315</td>\n",
       "      <td>7.697660</td>\n",
       "      <td>0.008081</td>\n",
       "    </tr>\n",
       "    <tr>\n",
       "      <td>3</td>\n",
       "      <td>bible-kjv.txt</td>\n",
       "      <td>12731</td>\n",
       "      <td>6.116325</td>\n",
       "      <td>0.015182</td>\n",
       "    </tr>\n",
       "    <tr>\n",
       "      <td>4</td>\n",
       "      <td>blake-poems.txt</td>\n",
       "      <td>1507</td>\n",
       "      <td>7.715231</td>\n",
       "      <td>0.010381</td>\n",
       "    </tr>\n",
       "    <tr>\n",
       "      <td>5</td>\n",
       "      <td>bryant-stories.txt</td>\n",
       "      <td>3888</td>\n",
       "      <td>7.784739</td>\n",
       "      <td>0.012387</td>\n",
       "    </tr>\n",
       "    <tr>\n",
       "      <td>6</td>\n",
       "      <td>burgess-busterbrown.txt</td>\n",
       "      <td>1525</td>\n",
       "      <td>5.241107</td>\n",
       "      <td>0.009900</td>\n",
       "    </tr>\n",
       "    <tr>\n",
       "      <td>7</td>\n",
       "      <td>carroll-alice.txt</td>\n",
       "      <td>2559</td>\n",
       "      <td>6.734327</td>\n",
       "      <td>0.010446</td>\n",
       "    </tr>\n",
       "    <tr>\n",
       "      <td>8</td>\n",
       "      <td>chesterton-ball.txt</td>\n",
       "      <td>8247</td>\n",
       "      <td>12.193382</td>\n",
       "      <td>0.009421</td>\n",
       "    </tr>\n",
       "    <tr>\n",
       "      <td>9</td>\n",
       "      <td>chesterton-brown.txt</td>\n",
       "      <td>7723</td>\n",
       "      <td>12.111191</td>\n",
       "      <td>0.009846</td>\n",
       "    </tr>\n",
       "    <tr>\n",
       "      <td>10</td>\n",
       "      <td>chesterton-thursday.txt</td>\n",
       "      <td>6290</td>\n",
       "      <td>11.110144</td>\n",
       "      <td>0.009576</td>\n",
       "    </tr>\n",
       "    <tr>\n",
       "      <td>11</td>\n",
       "      <td>edgeworth-parents.txt</td>\n",
       "      <td>8330</td>\n",
       "      <td>8.613953</td>\n",
       "      <td>0.008037</td>\n",
       "    </tr>\n",
       "    <tr>\n",
       "      <td>12</td>\n",
       "      <td>melville-moby_dick.txt</td>\n",
       "      <td>17110</td>\n",
       "      <td>15.346742</td>\n",
       "      <td>0.009478</td>\n",
       "    </tr>\n",
       "    <tr>\n",
       "      <td>13</td>\n",
       "      <td>milton-paradise.txt</td>\n",
       "      <td>8971</td>\n",
       "      <td>13.110398</td>\n",
       "      <td>0.006982</td>\n",
       "    </tr>\n",
       "    <tr>\n",
       "      <td>14</td>\n",
       "      <td>shakespeare-caesar.txt</td>\n",
       "      <td>3005</td>\n",
       "      <td>8.966754</td>\n",
       "      <td>0.006190</td>\n",
       "    </tr>\n",
       "    <tr>\n",
       "      <td>15</td>\n",
       "      <td>shakespeare-hamlet.txt</td>\n",
       "      <td>4688</td>\n",
       "      <td>11.615887</td>\n",
       "      <td>0.006506</td>\n",
       "    </tr>\n",
       "    <tr>\n",
       "      <td>16</td>\n",
       "      <td>shakespeare-macbeth.txt</td>\n",
       "      <td>3436</td>\n",
       "      <td>10.846567</td>\n",
       "      <td>0.005882</td>\n",
       "    </tr>\n",
       "    <tr>\n",
       "      <td>17</td>\n",
       "      <td>whitman-leaves.txt</td>\n",
       "      <td>12379</td>\n",
       "      <td>14.678616</td>\n",
       "      <td>0.012602</td>\n",
       "    </tr>\n",
       "  </tbody>\n",
       "</table>\n",
       "</div>"
      ],
      "text/plain": [
       "                       name  vocab    complex  diversity\n",
       "0           austen-emma.txt   7239   7.685982   0.007758\n",
       "1     austen-persuasion.txt   5755   8.427841   0.008517\n",
       "2          austen-sense.txt   6315   7.697660   0.008081\n",
       "3             bible-kjv.txt  12731   6.116325   0.015182\n",
       "4           blake-poems.txt   1507   7.715231   0.010381\n",
       "5        bryant-stories.txt   3888   7.784739   0.012387\n",
       "6   burgess-busterbrown.txt   1525   5.241107   0.009900\n",
       "7         carroll-alice.txt   2559   6.734327   0.010446\n",
       "8       chesterton-ball.txt   8247  12.193382   0.009421\n",
       "9      chesterton-brown.txt   7723  12.111191   0.009846\n",
       "10  chesterton-thursday.txt   6290  11.110144   0.009576\n",
       "11    edgeworth-parents.txt   8330   8.613953   0.008037\n",
       "12   melville-moby_dick.txt  17110  15.346742   0.009478\n",
       "13      milton-paradise.txt   8971  13.110398   0.006982\n",
       "14   shakespeare-caesar.txt   3005   8.966754   0.006190\n",
       "15   shakespeare-hamlet.txt   4688  11.615887   0.006506\n",
       "16  shakespeare-macbeth.txt   3436  10.846567   0.005882\n",
       "17       whitman-leaves.txt  12379  14.678616   0.012602"
      ]
     },
     "execution_count": 13,
     "metadata": {},
     "output_type": "execute_result"
    }
   ],
   "source": [
    "usage = (count > 0).astype(np.int)\n",
    "vocab = usage.sum(axis=1).getA1()\n",
    "diver = (freq.power(2)).sum(axis=1).getA1()\n",
    "comp = vocab/np.sqrt(length)\n",
    "pd.DataFrame({'name': books, 'vocab': vocab, 'complex': comp, 'diversity': diver})"
   ]
  },
  {
   "cell_type": "code",
   "execution_count": 14,
   "metadata": {},
   "outputs": [
    {
     "data": {
      "image/png": "[encoded data removed]",
      "text/plain": [
       "<Figure size 432x432 with 2 Axes>"
      ]
     },
     "metadata": {
      "needs_background": "light"
     },
     "output_type": "display_data"
    }
   ],
   "source": [
    "overlap = (usage*usage.T).toarray()/ntok\n",
    "plt.matshow(overlap);\n",
    "plt.colorbar();"
   ]
  },
  {
   "cell_type": "code",
   "execution_count": 15,
   "metadata": {},
   "outputs": [],
   "source": [
    "pub_year = {\n",
    "    'austen-emma': 1816,\n",
    "    'austen-persuasion': 1818,\n",
    "    'austen-sense': 1811,\n",
    "    'bible-kjv': 1611,\n",
    "    'blake-poems': 1789,\n",
    "    'bryant-stories': 1918,\n",
    "    'burgess-busterbrown': 1920,\n",
    "    'carroll-alice': 1865,\n",
    "    'chesterton-ball': 1909,\n",
    "    'chesterton-brown': 1914,\n",
    "    'chesterton-thursday': 1908,\n",
    "    'edgeworth-parents': 1796,\n",
    "    'melville-moby_dick': 1851,\n",
    "    'milton-paradise': 1667,\n",
    "    'shakespeare-caesar': 1599,\n",
    "    'shakespeare-hamlet': 1599,\n",
    "    'shakespeare-macbeth': 1603,\n",
    "    'whitman-leaves': 1855\n",
    "}\n",
    "years = np.array([pub_year[x] for x in names])"
   ]
  },
  {
   "cell_type": "code",
   "execution_count": 16,
   "metadata": {},
   "outputs": [
    {
     "data": {
      "image/png": "[encoded data removed]",
      "text/plain": [
       "<Figure size 576x432 with 1 Axes>"
      ]
     },
     "metadata": {
      "needs_background": "light"
     },
     "output_type": "display_data"
    }
   ],
   "source": [
    "year_diff = np.abs(years[:,None]-years[None,:]).flatten()\n",
    "sim_flat = simil.flatten()\n",
    "plt.scatter(year_diff, sim_flat);"
   ]
  },
  {
   "cell_type": "markdown",
   "metadata": {},
   "source": [
    "### Clustering"
   ]
  },
  {
   "cell_type": "code",
   "execution_count": 17,
   "metadata": {},
   "outputs": [],
   "source": [
    "from sklearn.cluster import KMeans\n",
    "from sklearn.decomposition import PCA"
   ]
  },
  {
   "cell_type": "code",
   "execution_count": 40,
   "metadata": {},
   "outputs": [
    {
     "data": {
      "text/html": [
       "<div>\n",
       "<style scoped>\n",
       "    .dataframe tbody tr th:only-of-type {\n",
       "        vertical-align: middle;\n",
       "    }\n",
       "\n",
       "    .dataframe tbody tr th {\n",
       "        vertical-align: top;\n",
       "    }\n",
       "\n",
       "    .dataframe thead th {\n",
       "        text-align: right;\n",
       "    }\n",
       "</style>\n",
       "<table border=\"1\" class=\"dataframe\">\n",
       "  <thead>\n",
       "    <tr style=\"text-align: right;\">\n",
       "      <th></th>\n",
       "      <th>name</th>\n",
       "      <th>length</th>\n",
       "      <th>clust</th>\n",
       "    </tr>\n",
       "  </thead>\n",
       "  <tbody>\n",
       "    <tr>\n",
       "      <td>3</td>\n",
       "      <td>bible-kjv</td>\n",
       "      <td>4332554</td>\n",
       "      <td>0</td>\n",
       "    </tr>\n",
       "    <tr>\n",
       "      <td>4</td>\n",
       "      <td>blake-poems</td>\n",
       "      <td>38153</td>\n",
       "      <td>0</td>\n",
       "    </tr>\n",
       "    <tr>\n",
       "      <td>5</td>\n",
       "      <td>bryant-stories</td>\n",
       "      <td>249439</td>\n",
       "      <td>0</td>\n",
       "    </tr>\n",
       "    <tr>\n",
       "      <td>7</td>\n",
       "      <td>carroll-alice</td>\n",
       "      <td>144395</td>\n",
       "      <td>0</td>\n",
       "    </tr>\n",
       "    <tr>\n",
       "      <td>8</td>\n",
       "      <td>chesterton-ball</td>\n",
       "      <td>457450</td>\n",
       "      <td>0</td>\n",
       "    </tr>\n",
       "    <tr>\n",
       "      <td>9</td>\n",
       "      <td>chesterton-brown</td>\n",
       "      <td>406629</td>\n",
       "      <td>0</td>\n",
       "    </tr>\n",
       "    <tr>\n",
       "      <td>10</td>\n",
       "      <td>chesterton-thursday</td>\n",
       "      <td>320525</td>\n",
       "      <td>0</td>\n",
       "    </tr>\n",
       "    <tr>\n",
       "      <td>12</td>\n",
       "      <td>melville-moby_dick</td>\n",
       "      <td>1242990</td>\n",
       "      <td>0</td>\n",
       "    </tr>\n",
       "    <tr>\n",
       "      <td>13</td>\n",
       "      <td>milton-paradise</td>\n",
       "      <td>468220</td>\n",
       "      <td>0</td>\n",
       "    </tr>\n",
       "    <tr>\n",
       "      <td>17</td>\n",
       "      <td>whitman-leaves</td>\n",
       "      <td>711215</td>\n",
       "      <td>0</td>\n",
       "    </tr>\n",
       "    <tr>\n",
       "      <td>14</td>\n",
       "      <td>shakespeare-caesar</td>\n",
       "      <td>112310</td>\n",
       "      <td>1</td>\n",
       "    </tr>\n",
       "    <tr>\n",
       "      <td>15</td>\n",
       "      <td>shakespeare-hamlet</td>\n",
       "      <td>162881</td>\n",
       "      <td>1</td>\n",
       "    </tr>\n",
       "    <tr>\n",
       "      <td>16</td>\n",
       "      <td>shakespeare-macbeth</td>\n",
       "      <td>100351</td>\n",
       "      <td>1</td>\n",
       "    </tr>\n",
       "    <tr>\n",
       "      <td>6</td>\n",
       "      <td>burgess-busterbrown</td>\n",
       "      <td>84663</td>\n",
       "      <td>2</td>\n",
       "    </tr>\n",
       "    <tr>\n",
       "      <td>0</td>\n",
       "      <td>austen-emma</td>\n",
       "      <td>887071</td>\n",
       "      <td>3</td>\n",
       "    </tr>\n",
       "    <tr>\n",
       "      <td>1</td>\n",
       "      <td>austen-persuasion</td>\n",
       "      <td>466292</td>\n",
       "      <td>3</td>\n",
       "    </tr>\n",
       "    <tr>\n",
       "      <td>2</td>\n",
       "      <td>austen-sense</td>\n",
       "      <td>673022</td>\n",
       "      <td>3</td>\n",
       "    </tr>\n",
       "    <tr>\n",
       "      <td>11</td>\n",
       "      <td>edgeworth-parents</td>\n",
       "      <td>935158</td>\n",
       "      <td>3</td>\n",
       "    </tr>\n",
       "  </tbody>\n",
       "</table>\n",
       "</div>"
      ],
      "text/plain": [
       "                   name   length  clust\n",
       "3             bible-kjv  4332554      0\n",
       "4           blake-poems    38153      0\n",
       "5        bryant-stories   249439      0\n",
       "7         carroll-alice   144395      0\n",
       "8       chesterton-ball   457450      0\n",
       "9      chesterton-brown   406629      0\n",
       "10  chesterton-thursday   320525      0\n",
       "12   melville-moby_dick  1242990      0\n",
       "13      milton-paradise   468220      0\n",
       "17       whitman-leaves   711215      0\n",
       "14   shakespeare-caesar   112310      1\n",
       "15   shakespeare-hamlet   162881      1\n",
       "16  shakespeare-macbeth   100351      1\n",
       "6   burgess-busterbrown    84663      2\n",
       "0           austen-emma   887071      3\n",
       "1     austen-persuasion   466292      3\n",
       "2          austen-sense   673022      3\n",
       "11    edgeworth-parents   935158      3"
      ]
     },
     "execution_count": 40,
     "metadata": {},
     "output_type": "execute_result"
    }
   ],
   "source": [
    "n_clust = 4\n",
    "clust = KMeans(n_clusters=n_clust).fit_predict(tfidf)\n",
    "df_clust = info.assign(clust=clust).sort_values(by=['clust', 'name'])\n",
    "df_clust"
   ]
  },
  {
   "cell_type": "markdown",
   "metadata": {},
   "source": [
    "### Inaugurals"
   ]
  },
  {
   "cell_type": "code",
   "execution_count": 44,
   "metadata": {},
   "outputs": [
    {
     "name": "stderr",
     "output_type": "stream",
     "text": [
      "[nltk_data] Downloading package inaugural to\n",
      "[nltk_data]     /media/wintermute/data/nltk...\n",
      "[nltk_data]   Unzipping corpora/inaugural.zip.\n"
     ]
    },
    {
     "data": {
      "text/plain": [
       "True"
      ]
     },
     "execution_count": 44,
     "metadata": {},
     "output_type": "execute_result"
    }
   ],
   "source": [
    "nltk.download('inaugural')"
   ]
  },
  {
   "cell_type": "code",
   "execution_count": 109,
   "metadata": {},
   "outputs": [],
   "source": [
    "pres = nltk.corpus.inaugural.fileids()\n",
    "inaug = [nltk.corpus.inaugural.open(f).read() for f in pres]\n",
    "inaug_years = np.array([int(s.split('-')[0]) for s in pres])\n",
    "inaug_length = np.array([len(s) for s in inaug])"
   ]
  },
  {
   "cell_type": "code",
   "execution_count": 72,
   "metadata": {},
   "outputs": [
    {
     "name": "stdout",
     "output_type": "stream",
     "text": [
      "ndoc = 58\n",
      "ntok = 9168\n"
     ]
    }
   ],
   "source": [
    "vec_count = fe.CountVectorizer()\n",
    "inaug_count = vec_count.fit_transform(inaug)\n",
    "inaug_ndoc, inaug_ntok = inaug_count.shape\n",
    "print(f'ndoc = {inaug_ndoc}')\n",
    "print(f'ntok = {inaug_ntok}')"
   ]
  },
  {
   "cell_type": "code",
   "execution_count": 74,
   "metadata": {},
   "outputs": [],
   "source": [
    "vec_freq = fe.TfidfVectorizer(use_idf=False, norm='l1')\n",
    "inaug_freq = vec_freq.fit_transform(inaug)"
   ]
  },
  {
   "cell_type": "code",
   "execution_count": 48,
   "metadata": {},
   "outputs": [],
   "source": [
    "vec_tfidf = fe.TfidfVectorizer()\n",
    "inaug_tfidf = vec_tfidf.fit_transform(inaug)"
   ]
  },
  {
   "cell_type": "code",
   "execution_count": 54,
   "metadata": {},
   "outputs": [
    {
     "data": {
      "image/png": "[encoded data removed]",
      "text/plain": [
       "<Figure size 432x432 with 2 Axes>"
      ]
     },
     "metadata": {
      "needs_background": "light"
     },
     "output_type": "display_data"
    }
   ],
   "source": [
    "inaug_simil = (inaug_tfidf*inaug_tfidf.T).toarray()\n",
    "plt.matshow(inaug_simil);\n",
    "plt.colorbar();"
   ]
  },
  {
   "cell_type": "code",
   "execution_count": 128,
   "metadata": {},
   "outputs": [
    {
     "name": "stdout",
     "output_type": "stream",
     "text": [
      "Fellow citizens, I am again called upon by the voice of my country to execute the functions of its Chief Magistrate. When the occasion proper for it shall arrive, I shall endeavor to express the high sense I entertain of this distinguished honor, and of the confidence which has been reposed in me by the people of united America.\n",
      "\n",
      "Previous to the execution of any official act of the President the Constitution requires an oath of office. This oath I am now about to take, and in your presence: That if it shall be found during my administration of the Government I have in any instance violated willingly or knowingly the injunctions thereof, I may (besides incurring constitutional punishment) be subject to the upbraidings of all who are now witnesses of the present solemn ceremony.\n"
     ]
    }
   ],
   "source": [
    "# what's up with washington's second inaugural? it's just super chill\n",
    "print(inaug[1].strip())"
   ]
  },
  {
   "cell_type": "code",
   "execution_count": 123,
   "metadata": {},
   "outputs": [
    {
     "data": {
      "image/png": "[encoded data removed]",
      "text/plain": [
       "<Figure size 432x432 with 3 Axes>"
      ]
     },
     "metadata": {
      "needs_background": "light"
     },
     "output_type": "display_data"
    }
   ],
   "source": [
    "year_diff = np.abs(inaug_years[:,None]-inaug_years[None,:]).flatten()\n",
    "sim_flat = inaug_simil.flatten()\n",
    "sns.jointplot(year_diff, sim_flat, kind='hex');"
   ]
  },
  {
   "cell_type": "code",
   "execution_count": 70,
   "metadata": {},
   "outputs": [
    {
     "data": {
      "text/html": [
       "<div>\n",
       "<style scoped>\n",
       "    .dataframe tbody tr th:only-of-type {\n",
       "        vertical-align: middle;\n",
       "    }\n",
       "\n",
       "    .dataframe tbody tr th {\n",
       "        vertical-align: top;\n",
       "    }\n",
       "\n",
       "    .dataframe thead th {\n",
       "        text-align: right;\n",
       "    }\n",
       "</style>\n",
       "<table border=\"1\" class=\"dataframe\">\n",
       "  <thead>\n",
       "    <tr style=\"text-align: right;\">\n",
       "      <th></th>\n",
       "      <th>pres</th>\n",
       "      <th>mean_sim</th>\n",
       "    </tr>\n",
       "  </thead>\n",
       "  <tbody>\n",
       "    <tr>\n",
       "      <td>1</td>\n",
       "      <td>1793-Washington.txt</td>\n",
       "      <td>0.581363</td>\n",
       "    </tr>\n",
       "    <tr>\n",
       "      <td>39</td>\n",
       "      <td>1945-Roosevelt.txt</td>\n",
       "      <td>0.672154</td>\n",
       "    </tr>\n",
       "    <tr>\n",
       "      <td>19</td>\n",
       "      <td>1865-Lincoln.txt</td>\n",
       "      <td>0.689010</td>\n",
       "    </tr>\n",
       "    <tr>\n",
       "      <td>57</td>\n",
       "      <td>2017-Trump.txt</td>\n",
       "      <td>0.690117</td>\n",
       "    </tr>\n",
       "    <tr>\n",
       "      <td>53</td>\n",
       "      <td>2001-Bush.txt</td>\n",
       "      <td>0.701539</td>\n",
       "    </tr>\n",
       "    <tr>\n",
       "      <td>47</td>\n",
       "      <td>1977-Carter.txt</td>\n",
       "      <td>0.705981</td>\n",
       "    </tr>\n",
       "    <tr>\n",
       "      <td>46</td>\n",
       "      <td>1973-Nixon.txt</td>\n",
       "      <td>0.729264</td>\n",
       "    </tr>\n",
       "    <tr>\n",
       "      <td>51</td>\n",
       "      <td>1993-Clinton.txt</td>\n",
       "      <td>0.731789</td>\n",
       "    </tr>\n",
       "    <tr>\n",
       "      <td>56</td>\n",
       "      <td>2013-Obama.txt</td>\n",
       "      <td>0.747434</td>\n",
       "    </tr>\n",
       "    <tr>\n",
       "      <td>20</td>\n",
       "      <td>1869-Grant.txt</td>\n",
       "      <td>0.747690</td>\n",
       "    </tr>\n",
       "  </tbody>\n",
       "</table>\n",
       "</div>"
      ],
      "text/plain": [
       "                   pres  mean_sim\n",
       "1   1793-Washington.txt  0.581363\n",
       "39   1945-Roosevelt.txt  0.672154\n",
       "19     1865-Lincoln.txt  0.689010\n",
       "57       2017-Trump.txt  0.690117\n",
       "53        2001-Bush.txt  0.701539\n",
       "47      1977-Carter.txt  0.705981\n",
       "46       1973-Nixon.txt  0.729264\n",
       "51     1993-Clinton.txt  0.731789\n",
       "56       2013-Obama.txt  0.747434\n",
       "20       1869-Grant.txt  0.747690"
      ]
     },
     "execution_count": 70,
     "metadata": {},
     "output_type": "execute_result"
    }
   ],
   "source": [
    "pd.DataFrame({'pres': pres, 'mean_sim': inaug_simil.mean(axis=1)}).sort_values(by='mean_sim').head(10)"
   ]
  },
  {
   "cell_type": "code",
   "execution_count": 118,
   "metadata": {},
   "outputs": [],
   "source": [
    "inaug_usage = (inaug_count > 0).astype(np.int)\n",
    "inaug_vocab = inaug_usage.sum(axis=1).getA1()\n",
    "inaug_diver = (inaug_freq.power(2)).sum(axis=1).getA1()\n",
    "stats = pd.DataFrame({'name': pres, 'year': inaug_years, 'length': inaug_length, 'vocab': inaug_vocab, 'diversity': inaug_diver})"
   ]
  },
  {
   "cell_type": "code",
   "execution_count": 117,
   "metadata": {},
   "outputs": [
    {
     "data": {
      "image/png": "[encoded data removed]",
      "text/plain": [
       "<Figure size 432x288 with 1 Axes>"
      ]
     },
     "metadata": {
      "needs_background": "light"
     },
     "output_type": "display_data"
    }
   ],
   "source": [
    "stats.plot.scatter('year', 'vocab');"
   ]
  },
  {
   "cell_type": "code",
   "execution_count": null,
   "metadata": {},
   "outputs": [],
   "source": []
  }
 ],
 "metadata": {
  "kernelspec": {
   "display_name": "Python 3.7",
   "language": "python",
   "name": "python3.7"
  },
  "language_info": {
   "codemirror_mode": {
    "name": "ipython",
    "version": 3
   },
   "file_extension": ".py",
   "mimetype": "text/x-python",
   "name": "python",
   "nbconvert_exporter": "python",
   "pygments_lexer": "ipython3",
   "version": "3.7.5"
  }
 },
 "nbformat": 4,
 "nbformat_minor": 4
}
